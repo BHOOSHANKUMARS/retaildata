{
 "cells": [
  {
   "cell_type": "code",
   "execution_count": 1,
   "metadata": {},
   "outputs": [],
   "source": [
    "import requests\n",
    "from requests.exceptions import ReadTimeout, ConnectTimeout\n",
    "import pandas as pd"
   ]
  },
  {
   "cell_type": "code",
   "execution_count": 2,
   "metadata": {},
   "outputs": [
    {
     "data": {
      "text/html": [
       "<div>\n",
       "<style scoped>\n",
       "    .dataframe tbody tr th:only-of-type {\n",
       "        vertical-align: middle;\n",
       "    }\n",
       "\n",
       "    .dataframe tbody tr th {\n",
       "        vertical-align: top;\n",
       "    }\n",
       "\n",
       "    .dataframe thead th {\n",
       "        text-align: right;\n",
       "    }\n",
       "</style>\n",
       "<table border=\"1\" class=\"dataframe\">\n",
       "  <thead>\n",
       "    <tr style=\"text-align: right;\">\n",
       "      <th></th>\n",
       "      <th>名称</th>\n",
       "      <th>经度</th>\n",
       "      <th>纬度</th>\n",
       "      <th>距离</th>\n",
       "      <th>建筑年代</th>\n",
       "      <th>楼栋总数</th>\n",
       "      <th>房屋总数</th>\n",
       "    </tr>\n",
       "  </thead>\n",
       "  <tbody>\n",
       "    <tr>\n",
       "      <th>0</th>\n",
       "      <td>正阳世纪星城(绅鸿苑)</td>\n",
       "      <td>121.480515</td>\n",
       "      <td>30.912384</td>\n",
       "      <td>880</td>\n",
       "      <td>2005.0</td>\n",
       "      <td>29</td>\n",
       "      <td>338</td>\n",
       "    </tr>\n",
       "    <tr>\n",
       "      <th>1</th>\n",
       "      <td>奉苑新村</td>\n",
       "      <td>121.466207</td>\n",
       "      <td>30.920155</td>\n",
       "      <td>1945</td>\n",
       "      <td>1999.0</td>\n",
       "      <td>26</td>\n",
       "      <td>274</td>\n",
       "    </tr>\n",
       "    <tr>\n",
       "      <th>2</th>\n",
       "      <td>南亭公寓</td>\n",
       "      <td>121.460741</td>\n",
       "      <td>30.907867</td>\n",
       "      <td>2723</td>\n",
       "      <td>2000.0</td>\n",
       "      <td>25</td>\n",
       "      <td>266</td>\n",
       "    </tr>\n",
       "    <tr>\n",
       "      <th>3</th>\n",
       "      <td>九华丽苑</td>\n",
       "      <td>121.460980</td>\n",
       "      <td>30.925206</td>\n",
       "      <td>2549</td>\n",
       "      <td>2014.0</td>\n",
       "      <td>20</td>\n",
       "      <td>741</td>\n",
       "    </tr>\n",
       "    <tr>\n",
       "      <th>4</th>\n",
       "      <td>曙光新村(南桥)</td>\n",
       "      <td>121.472526</td>\n",
       "      <td>30.915556</td>\n",
       "      <td>1369</td>\n",
       "      <td>1993.0</td>\n",
       "      <td>28</td>\n",
       "      <td>277</td>\n",
       "    </tr>\n",
       "  </tbody>\n",
       "</table>\n",
       "</div>"
      ],
      "text/plain": [
       "            名称          经度         纬度    距离    建筑年代  楼栋总数  房屋总数\n",
       "0  正阳世纪星城(绅鸿苑)  121.480515  30.912384   880  2005.0    29   338\n",
       "1         奉苑新村  121.466207  30.920155  1945  1999.0    26   274\n",
       "2         南亭公寓  121.460741  30.907867  2723  2000.0    25   266\n",
       "3         九华丽苑  121.460980  30.925206  2549  2014.0    20   741\n",
       "4     曙光新村(南桥)  121.472526  30.915556  1369  1993.0    28   277"
      ]
     },
     "execution_count": 2,
     "metadata": {},
     "output_type": "execute_result"
    }
   ],
   "source": [
    "data = pd.read_csv('./data00.csv')\n",
    "data.head()"
   ]
  },
  {
   "cell_type": "code",
   "execution_count": 3,
   "metadata": {},
   "outputs": [],
   "source": [
    "with open('./Baidu_AK.txt','r') as f:\n",
    "    AK_str = f.read()\n",
    "    \n",
    "# 高德火星坐标转换为百度坐标系\n",
    "def coordconv(coord_str):\n",
    "    # 要求原始的coord_str是经度在前纬度在后\n",
    "    base =  \"http://api.map.baidu.com/geoconv/v1/\"\n",
    "    parameters = {\"coords\": coord_str,\n",
    "                  \"ak\":  AK_str,\n",
    "                  \"from\": 3,\n",
    "                  \"to\": 5\n",
    "                 }\n",
    "    try:\n",
    "        response = requests.get(base, parameters, timeout=2)\n",
    "        if response.status_code == 200:\n",
    "            answer = response.json()\n",
    "            loc_dict = answer['result'][0]\n",
    "            lon = loc_dict.get('x')\n",
    "            lat = loc_dict.get('y')\n",
    "            loc = [lon,lat]\n",
    "        else:\n",
    "            pass\n",
    "    except (ReadTimeout, ConnectTimeout):\n",
    "        pass\n",
    "    return loc"
   ]
  },
  {
   "cell_type": "code",
   "execution_count": 4,
   "metadata": {},
   "outputs": [
    {
     "data": {
      "text/plain": [
       "[121.48705181135036, 30.91819035721415]"
      ]
     },
     "execution_count": 4,
     "metadata": {},
     "output_type": "execute_result"
    }
   ],
   "source": [
    "test = coordconv('121.480515,30.912384')\n",
    "test"
   ]
  },
  {
   "cell_type": "code",
   "execution_count": null,
   "metadata": {},
   "outputs": [],
   "source": [
    "\"\"\"\n",
    "I  .百度web API只能通过在线工具生成静态图，无法通过python调用生成\n",
    "\n",
    "II .百度的pyecharts地理散点图可参考：\n",
    "1. https://blog.csdn.net/zengbowengood/article/details/104695205\n",
    "2. https://www.cnblogs.com/zhuwjwh/p/12095476.html\n",
    "3. https://gallery.pyecharts.org/#/BMap/bmap_base\n",
    "百度Geo和Map：可以制作到国家/区域/市/区县四级散点分布图，但是无法支持街道的详细地图\n",
    "百度Bmap：是百度地图的在线画图，但是从别的地方搜来的POI（如高德）即便转换成百度坐标但也可能不存在该点而画不了\n",
    "\n",
    "Baidu is shit!\n",
    "\n",
    "\"\"\""
   ]
  }
 ],
 "metadata": {
  "kernelspec": {
   "display_name": "Python 3",
   "language": "python",
   "name": "python3"
  },
  "language_info": {
   "codemirror_mode": {
    "name": "ipython",
    "version": 3
   },
   "file_extension": ".py",
   "mimetype": "text/x-python",
   "name": "python",
   "nbconvert_exporter": "python",
   "pygments_lexer": "ipython3",
   "version": "3.7.7"
  }
 },
 "nbformat": 4,
 "nbformat_minor": 4
}
