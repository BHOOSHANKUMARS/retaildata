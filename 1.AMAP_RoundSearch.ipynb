{
 "cells": [
  {
   "cell_type": "code",
   "execution_count": 1,
   "metadata": {},
   "outputs": [],
   "source": [
    "import requests\n",
    "import math\n",
    "import pandas as pd\n",
    "from requests.exceptions import ReadTimeout, ConnectTimeout"
   ]
  },
  {
   "cell_type": "code",
   "execution_count": 2,
   "metadata": {},
   "outputs": [],
   "source": [
    "# 读取高德地图用户密钥\n",
    "def read_key():\n",
    "    with open('./amap_user_key.txt','r') as f:\n",
    "        key_str = f.read()\n",
    "    return key_str\n",
    "\n",
    "# 结构化地址转换成经纬度\n",
    "def transform(geo):\n",
    "    parameters = { \"address\": geo,  \"key\":  read_key() }\n",
    "    base =  \"https://restapi.amap.com/v3/geocode/geo\"    \n",
    "    try:\n",
    "        response = requests.get(base, parameters, timeout=2)\n",
    "        if response.status_code == 200:\n",
    "            answer = response.json()\n",
    "            loc = answer['geocodes'][0].get('location')\n",
    "        else:\n",
    "            pass\n",
    "    except (ReadTimeout, ConnectTimeout):\n",
    "        # ConnectTimeout指的是建立连接所用的时间，适用于网络状况正常的情况下，\n",
    "        # 两端连接所用的时间。ReadTimeout指的是建立连接后从服务器读取到可用资源所用的时间。\n",
    "        pass\n",
    "    return loc"
   ]
  },
  {
   "cell_type": "code",
   "execution_count": 3,
   "metadata": {},
   "outputs": [],
   "source": [
    "def search_around(proj_name, radi, search_type='120301|120302'):\n",
    "    # 高德API Web服务周边搜索功能URL基本字段\n",
    "    # 默认搜索类型，为\n",
    "    # 120301：商务住宅，住宅区，别墅\n",
    "    # 120302：商务住宅，住宅区，住宅小区\n",
    "    base = \"https://restapi.amap.com/v3/place/around\"\n",
    "    # 第一次运行，获得POI的数目\n",
    "    parameters ={'key' : read_key(),\n",
    "                 'location' : transform(proj_name),\n",
    "                 'types' : search_type,\n",
    "                 'radius' : radi\n",
    "                 }\n",
    "    try:\n",
    "        response = requests.get(base, parameters, timeout=2)\n",
    "        if response.status_code == 200:\n",
    "            answer = response.json()\n",
    "        else:\n",
    "            pass\n",
    "    except (ReadTimeout, ConnectTimeout):\n",
    "        pass\n",
    "    POIs_num = answer['count']\n",
    "    # 把所有页的POI全部抓取下来\n",
    "    pages_num = math.ceil(int(POIs_num) / 20)\n",
    "    results = pd.DataFrame(columns=['高德ID','高德名称', 'POI类型', '坐标', '距离', '地址'])\n",
    "    for i in range(1 , pages_num+1):\n",
    "        parameters.update({ 'page' : i })\n",
    "        response = requests.get(base, parameters)\n",
    "        answer = response.json()\n",
    "        # 将信息存入DataFrame\n",
    "        for i in answer['pois'][:]:\n",
    "            info_dict={'高德ID' :  i.get('id'),\n",
    "                       '高德名称': i.get('name'),\n",
    "                       'POI类型':  i.get('typecode'),\n",
    "                       '坐标':     i.get('location'),\n",
    "                       '距离':     i.get('distance'), \n",
    "                       '地址':     i.get('address')}\n",
    "            results = results.append(info_dict,ignore_index=True)   \n",
    "    print(\"{},坐标[{}],周围{}米的小区搜索完成\".format(proj_name,parameters['location'],radi))\n",
    "    return results"
   ]
  },
  {
   "cell_type": "code",
   "execution_count": 4,
   "metadata": {},
   "outputs": [
    {
     "name": "stdout",
     "output_type": "stream",
     "text": [
      "上海市奉贤区传悦坊,坐标[121.486477,30.918412],周围3000米的小区搜索完成\n"
     ]
    }
   ],
   "source": [
    "s = search_around(\"上海市奉贤区传悦坊\",3000)"
   ]
  },
  {
   "cell_type": "code",
   "execution_count": 5,
   "metadata": {},
   "outputs": [],
   "source": [
    "s.to_csv('./Amap_info.csv', encoding='utf_8_sig')"
   ]
  }
 ],
 "metadata": {
  "kernelspec": {
   "display_name": "Python 3",
   "language": "python",
   "name": "python3"
  },
  "language_info": {
   "codemirror_mode": {
    "name": "ipython",
    "version": 3
   },
   "file_extension": ".py",
   "mimetype": "text/x-python",
   "name": "python",
   "nbconvert_exporter": "python",
   "pygments_lexer": "ipython3",
   "version": "3.7.7"
  }
 },
 "nbformat": 4,
 "nbformat_minor": 4
}
